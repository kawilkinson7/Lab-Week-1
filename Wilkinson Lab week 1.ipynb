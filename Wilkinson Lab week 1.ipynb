{
 "cells": [
  {
   "cell_type": "code",
   "execution_count": 2,
   "metadata": {},
   "outputs": [
    {
     "name": "stdout",
     "output_type": "stream",
     "text": [
      "0.03162277660168379\n",
      "1.7228309558266145e-05\n",
      "1.3661901539685348e-07\n"
     ]
    }
   ],
   "source": [
    "\n",
    "\n",
    "import numpy as np\n",
    "def rule_three(er_ti,er_tf,):\n",
    "    er_DT= (er_ti**2+er_tf**2)**(1/2)\n",
    "    return er_DT\n",
    "TI_er = 0.03 #degC#\n",
    "TF_er = 0.01 #degC#\n",
    "DeltaTemp_er=rule_three(TI_er,TF_er)\n",
    "print(DeltaTemp_er)\n",
    "\n",
    "import numpy as np\n",
    "def alpha(Dl, L, dt):\n",
    "    denom = (L * dt)\n",
    "    alp = Dl / denom\n",
    "    return alp\n",
    "Delta_l = 0.00125  # m#\n",
    "length = 1.05  # m#\n",
    "tf = 92.5\n",
    "ti = 23.4\n",
    "delta_temp = tf - ti  # degC#\n",
    "\n",
    "ALPHA= alpha(Delta_l, length, delta_temp)\n",
    "print(ALPHA)\n",
    "\n",
    "import numpy as np\n",
    "def rule_four(Q,erA,A,erb,b,erc,c,m):\n",
    "    avar =(erA/A)**2#include m here\n",
    "    bvar =m*(erb/b)**2 #include m here\n",
    "    cvar =m*(erc/c)**2#include m here\n",
    "    allvar = (avar+bvar+cvar)**(1/2)\n",
    "    erorrQ= allvar*Q\n",
    "    return erorrQ\n",
    "Qvar=ALPHA\n",
    "delLe=.00001 #m#\n",
    "delta_l=Delta_l\n",
    "erl=.001 #m#\n",
    "length=length\n",
    "DeltaTemp_er=DeltaTemp_er\n",
    "delta_temp=delta_temp\n",
    "mval= -1\n",
    "erroralpha=rule_four(Qvar,delLe, delta_l,erl,length,DeltaTemp_er,delta_temp,mval)\n",
    "print(erroralpha)\n",
    "\n"
   ]
  },
  {
   "cell_type": "code",
   "execution_count": null,
   "metadata": {},
   "outputs": [],
   "source": []
  }
 ],
 "metadata": {
  "kernelspec": {
   "display_name": "Python 3",
   "language": "python",
   "name": "python3"
  },
  "language_info": {
   "codemirror_mode": {
    "name": "ipython",
    "version": 3
   },
   "file_extension": ".py",
   "mimetype": "text/x-python",
   "name": "python",
   "nbconvert_exporter": "python",
   "pygments_lexer": "ipython3",
   "version": "3.6.5"
  }
 },
 "nbformat": 4,
 "nbformat_minor": 2
}
